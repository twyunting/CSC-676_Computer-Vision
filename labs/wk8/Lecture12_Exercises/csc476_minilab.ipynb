{
 "cells": [
  {
   "cell_type": "code",
   "execution_count": null,
   "metadata": {},
   "outputs": [],
   "source": [
    "CSC 496 Motion Manification"
   ]
  },
  {
   "cell_type": "markdown",
   "metadata": {},
   "source": [
    "Bei Xiao Adapted from Ming Jin, Instructor: Prof. Ron Fearing"
   ]
  },
  {
   "cell_type": "markdown",
   "metadata": {},
   "source": [
    "## Fundamentals: 1D example\n",
    "\n",
    "The idea of motion magnification is quite simple and elegant: the subtle temporal changes in the video are extracted using a bandpass filter, amplified in magnitude, and added back to the original signal. In this section, you will be working with a simple 1D image \"band\" (rather than a 2D image), and explore the working principles and conditions.\n",
    "\n",
    "Let's denote $I(x,t)$ as the gray-scale intensity of the image band, where $x\\in [0,2]$ is the spatial location, and $t\\geq 0$ is the time variable. Assume that the band undergoes a subtle (probably unobservable) translational motion, expressed as the observed video intensity function with respect to a displacement function $\\delta(t)$, such that $I(x,t)=f(x+\\delta(t),t)$. Our goal is to exagerate the displacement function, i.e., to synthesize the signal $\\hat{I}(x,t)=f(x+(1+\\alpha)\\delta(t),t)$, where $\\alpha>0$ is the amplification factor.\n",
    "\n",
    "Using the first-order Taylor series expansion, we can write the image at time $t$, $f(x+(1+\\alpha)\\delta(t),t)$ as:\n",
    "$I(x,t)\\approx f(x,t)+\\delta(t)\\frac{\\partial f(x,t)}{\\partial x}$.\n",
    "Let $B(x,t)$ be the result of applying a temporal bandpass filter at every position $x$ that extracts the subtle temporal changes, i.e., $B(x,t)=\\delta(t)\\frac{\\partial f(x,t)}{\\partial x}$. Now we can amplify the bandpass signal by $\\alpha$ an add it back to $I(x,t)$: $\\tilde{I}(x,t)=I(x,t)+\\alpha B(x,t)\\approx f(x,t)+(1+\\alpha)\\delta(t)\\frac{\\partial f(x,t)}{\\partial x}$. If the first order Taylor expansion holds for the amplied signal, then we get back the synthesis signal with amplified larger perturbation!\n",
    "\n",
    "<b>Throughout this section, we will work with the image function signal, given by:</b>\n",
    "$$I(x,t) = \\cos\\big(2\\pi (x-t+(1+\\alpha)\\delta(t))\\big)$$\n",
    "where $1+\\alpha$ (with $\\alpha\\geq 0$) is the amplitude magnification factor, and $\\delta(t)=0.005\\cos(2\\pi f_0 t)$ is the \"subtle\" motion function, with $f_0=4 Hz$ being the frequency of the oscillation motion. "
   ]
  },
  {
   "cell_type": "code",
   "execution_count": 1,
   "metadata": {},
   "outputs": [
    {
     "data": {
      "image/png": "[encoded data removed]",
      "text/plain": [
       "<matplotlib.figure.Figure at 0x10d4b1150>"
      ]
     },
     "metadata": {},
     "output_type": "display_data"
    }
   ],
   "source": [
    "import numpy\n",
    "import matplotlib.pyplot as plt\n",
    "from IPython.html.widgets import *\n",
    "%matplotlib inline\n",
    "\n",
    "# Now let's define our displacement function delta(t)\n",
    "def delta_func(t,freq=4):\n",
    "    return 0.005*numpy.cos(2 * numpy.pi * freq * t)\n",
    "\n",
    "# This is our 1-D image function, I(x,t) = \\cos\\big(2\\pi (x-t+(1+\\alpha)\\delta(t))\\big)\n",
    "def image_func(x,t,alpha=0):\n",
    "    delta_t = delta_func(t=t)\n",
    "    return numpy.cos(2 * numpy.pi * (x - t +(1+alpha)*delta_t))\n",
    "\n",
    "# This plots our image function, I(x,t) for a given time t, \n",
    "#   along with a image band showing the intensity along its x axis\n",
    "def pltsin(t,alpha):\n",
    "    x = numpy.linspace(0, 2, 50)\n",
    "    y = image_func(x,t,alpha=alpha)\n",
    "    plt.figure(figsize=(10,4))\n",
    "    # Now lets' draw the intensity values\n",
    "    plt.subplot(2, 1, 1)\n",
    "    plt.plot(x,y), plt.title('Image function intensity'), plt.xlabel('space domain'), plt.ylabel('intensity')\n",
    "    # Here is the 1D band\n",
    "    plt.subplot(2, 1, 2)\n",
    "    plt.imshow(numpy.tile(y,(10,1)), cmap='Greys_r', aspect='auto')\n",
    "\n",
    "# STUDENT: Play with the time, t, and amplification magnitude, alpha\n",
    "interact(pltsin, t=(0,1,0.01),alpha=[0,20,5]);"
   ]
  },
  {
   "cell_type": "markdown",
   "metadata": {},
   "source": [
    "As you play with the amplification factor, $\\alpha$, you might have noticed that for the subtle motion added on top of the mega-movement is not noticable for small values, but becomes more pronounced as $\\alpha$ increases. What's just happened? Let's examine a single pixel, e.g., $x=1$, individually.\n",
    "\n",
    "<b> Q1: Please write out the intensity function for pixel at $x=1$. Attach the plots for amplification factors $\\alpha=0, 10, 20, 50, 100$. What do you observe? </b>"
   ]
  },
  {
   "cell_type": "code",
   "execution_count": 2,
   "metadata": {
    "scrolled": true
   },
   "outputs": [
    {
     "ename": "SyntaxError",
     "evalue": "invalid syntax (<ipython-input-2-1f2a9d08058e>, line 4)",
     "output_type": "error",
     "traceback": [
      "\u001b[0;36m  File \u001b[0;32m\"<ipython-input-2-1f2a9d08058e>\"\u001b[0;36m, line \u001b[0;32m4\u001b[0m\n\u001b[0;31m    alpha =\u001b[0m\n\u001b[0m            ^\u001b[0m\n\u001b[0;31mSyntaxError\u001b[0m\u001b[0;31m:\u001b[0m invalid syntax\n"
     ]
    }
   ],
   "source": [
    "# Now let's take a look at the intensity at a specific pixel, x=1\n",
    "sample_interval = 0.001\n",
    "### STUDENT: Choose the amplification magnitude and observe the effect in the time domain\n",
    "alpha = \n",
    "### STUDENT END\n",
    "x, t = 1.0,numpy.arange(0,1,sample_interval)\n",
    "y_pixel = image_func(x,t,alpha)\n",
    "plt.plot(t,y_pixel), plt.title('Pixel intensity I(x=1,t), alpha: '+str(alpha))\n",
    "plt.xlabel('time domain (sec)'), plt.ylabel('intensity')"
   ]
  },
  {
   "cell_type": "markdown",
   "metadata": {},
   "source": [
    "Our goal is to exagerate the displacement effect to reveal the hidden changes. As discussed in the beginning of the section, to achieve this, the imperceptible temporal changes in the video are extracted using a bandpass filter, amplified in magnitude, and added back to the original signal. \n",
    "\n",
    "<b>Q2:</b> Write out the Fourier Transform of $I(1,t)$ from Q1 for the case when $\\alpha$ is very small. (Hint: you can use the Taylor series expansion.) What are the frequency components related to the displacement function $\\delta(t)$? \n",
    "\n",
    "<b>Q3:</b> Does your answer in Q2 apply for large $\\alpha$? Test your argument with the following plots, and attach the results for $\\alpha=0,10,20,50,100$. "
   ]
  },
  {
   "cell_type": "code",
   "execution_count": null,
   "metadata": {},
   "outputs": [],
   "source": [
    "### STUDNET: Choose the cutoff frequency, freq_min, freq_max, that highlight the frequency components of \\delta(t)\n",
    "freq_min,freq_max = \n",
    "### STUDENT END\n",
    "### STUDENT: Choose the amplification magnitude and observe the effect in the frequency domain\n",
    "alpha = \n",
    "### STUDENT END\n",
    "x, t = 1.0,numpy.arange(0,1,sample_interval)\n",
    "y_pixel = image_func(x,t,alpha)\n",
    "frequencies = numpy.fft.fftfreq(len(t), d=sample_interval)\n",
    "plt.subplot()\n",
    "plt.title(\"FFT\"),plt.xlabel('Frequency (Hz)'), plt.ylabel('Frequency magnitudes'), plt.xlim([-20,20])\n",
    "plt.stem(frequencies, abs(numpy.fft.fft(y_pixel)), markerfmt=\" \")\n",
    "plt.axvspan(freq_min, freq_max, alpha=0.5, color='red')\n",
    "plt.axvspan(-freq_max, -freq_min, alpha=0.5, color='red')"
   ]
  },
  {
   "cell_type": "markdown",
   "metadata": {},
   "source": [
    "So far, we have been working directly with the image function $I(x,t) = \\cos\\big(2\\pi (x-t+(1+\\alpha)\\delta(t))\\big)$ - however, as you might already wonder, we DO NOT really know what the displacement function is in practice. We do, nevertheless, know about the range of frequency that the displacement function might lie in, e.g., <b>freq_min</b> and <b>freq_max</b> that you specified above.\n",
    "\n",
    "Next, let's implement the temporal filter that will extract the signal, $B(1,t)$ (as defined in the beginning of the section), in the frequency range of interests from the original signal $I(1,t)$, with $\\alpha=0$."
   ]
  },
  {
   "cell_type": "code",
   "execution_count": null,
   "metadata": {
    "collapsed": true
   },
   "outputs": [],
   "source": [
    "# Implement the temporal bandpass filter\n",
    "def bandpass_filter(x, sample_interval, freq_min, freq_max):\n",
    "    # Inputs:\n",
    "    # x: temporal signal of shape (N,)\n",
    "    # sample_interval: the temporal sampling interval.\n",
    "    # freq_min, freq_max: cut-off frequencies for bandpass filter\n",
    "    # Output:\n",
    "    # Band-passed signal, with only frequency components (absolute value) between freq_min and freq_max  preserved\n",
    "    \n",
    "    ### STUDENT: Implement the bandpass filter. \n",
    "    ### Feel free to use numpy.fft.fft, numpy.fft.fftfreq, numpy.fft.ifft\n",
    "    \n",
    "    \n",
    "    \n",
    "    \n",
    "    \n",
    "    \n",
    "    \n",
    "    \n",
    "    ### STUDENT END\n",
    "    return band_pass_signal"
   ]
  },
  {
   "cell_type": "code",
   "execution_count": null,
   "metadata": {},
   "outputs": [],
   "source": [
    "# Assume you have implemented the bandpass_filter function correctly, we now extract the hidden signal\n",
    "y_orig = image_func(x,t,alpha=0.0) #The original signal\n",
    "print(\"Applying bandpass between \" + str(freq_min) + \" and \" + str(freq_max) + \" Hz\")\n",
    "hidden_signal = bandpass_filter(y_orig,sample_interval,freq_min,freq_max) \n",
    "plt.plot(t,hidden_signal), plt.title('Hidden signal B(x=1,t) between ' +str(freq_min)+' and '+str(freq_max)+' Hz')\n",
    "plt.xlabel('time domain (sec)'), plt.ylabel('intensity')"
   ]
  },
  {
   "cell_type": "code",
   "execution_count": null,
   "metadata": {},
   "outputs": [],
   "source": [
    "# Next, let's amplify the hidden signal by alpha and add it back to the original signal.\n",
    "### STUDENT: Specify the amplification factor alpha based on your experirences so far\n",
    "alpha = \n",
    "### STUDENT END\n",
    "### SUDENT: Compose the signal with amplified motion, i.e., \\hat{I}(1,t)\n",
    "def approx_amplify(y_orig,hidden_signal,alpha):\n",
    "    return \n",
    "### STUDENT END\n",
    "y_amp = approx_amplify(y_orig,hidden_signal,alpha)\n",
    "plt.title('Signal amplification, alpha: '+str(alpha)), plt.xlabel('time domain (sec)'), plt.ylabel('intensity')\n",
    "plt.plot(t,y_amp,linewidth=2,color='b',label='Approx. amplification'),\n",
    "# Now we plot the true amplified signal\n",
    "y_amp_true = image_func(x,t,alpha)\n",
    "plt.plot(t,y_amp_true,linewidth=2,color='r',label='True amplification')\n",
    "# And the original signal\n",
    "plt.plot(t,y_orig,linewidth=2,linestyle='--',color='g',label='Original signal')\n",
    "plt.legend(bbox_to_anchor=(1.05, 1), loc=2, borderaxespad=0.)"
   ]
  },
  {
   "cell_type": "markdown",
   "metadata": {},
   "source": [
    "<b>Q4:</b> What is our amplification signal, $\\tilde{I}(x,t)$ (if you use $B(x,t)$, please clearly indicate what it represents)? What do you observe from the above amplification results? Attach the plots for different amplification factors $\\alpha=10,20,50,100$, and indicate the reliability of amplification as $\\alpha$ increases.\n",
    "\n",
    "Voila! All we need to do is to apply this to all the pixels of the image band. Try the following block of codes with your magnified signal. Can you see the desired result with the subtle motion BOLDLY magnified?! This also demonstrates how temporal filtering interplays with spatial motion in videos."
   ]
  },
  {
   "cell_type": "code",
   "execution_count": null,
   "metadata": {},
   "outputs": [],
   "source": [
    "x,tvec = numpy.linspace(0, 2, 50),numpy.arange(0,1,sample_interval)\n",
    "y_amp_movie = numpy.zeros((len(t),len(x)))\n",
    "### STUDENT: examine different alpha\n",
    "alpha = \n",
    "### STUDENT END\n",
    "for x_i in range(len(x)):\n",
    "    y_orig = image_func(x[x_i],t,alpha=0.0)\n",
    "    hidden_signal = bandpass_filter(y_orig,sample_interval,freq_min,freq_max) \n",
    "    y_approx = approx_amplify(y_orig,hidden_signal,alpha)\n",
    "    # NOTE: We need to implement this normalization to visualize in the grayscale image\n",
    "    y_approx_norm = y_approx/numpy.max(abs(y_approx))\n",
    "    y_amp_movie[:,x_i] = y_approx_norm\n",
    "    \n",
    "def pltsin_approx(t):\n",
    "    t_ind = (numpy.abs(tvec - t)).argmin()\n",
    "    plt.figure(figsize=(10,4))\n",
    "    # Now lets' draw the intensity values\n",
    "    plt.subplot(2, 1, 1)\n",
    "    y = y_amp_movie[t_ind,:]\n",
    "    plt.plot(x,y), plt.title('Amplified image function intensity'), plt.xlabel('space domain'), plt.ylabel('intensity')\n",
    "    # Here is the 1D band\n",
    "    plt.subplot(2, 1, 2),plt.axis(\"off\")\n",
    "    plt.imshow(numpy.tile(y,(10,1)), cmap='Greys_r', aspect='auto')\n",
    "# STUDENT: Play with the time, t, and amplification magnitude, alpha\n",
    "interact(pltsin_approx, t=(0,1,0.01));"
   ]
  },
  {
   "cell_type": "markdown",
   "metadata": {},
   "source": [
    "## Application: Facial Pulse Detection"
   ]
  },
  {
   "cell_type": "markdown",
   "metadata": {},
   "source": [
    "The above idea can be easily extended to 2D image. A video is a sequence of frames, played back at a rate determined by frames per second (fps), typically 30Hz, and each frame is simply an image coded in three color channels, usually Red, Green, and Blue. The motion magnification, when applied to each pixel in its respective color channel, is effectively magnifying both the motion changes and the color changes. "
   ]
  },
  {
   "cell_type": "code",
   "execution_count": null,
   "metadata": {},
   "outputs": [],
   "source": [
    "import sys\n",
    "import os\n",
    "import matplotlib.pyplot as plt\n",
    "import scipy.ndimage\n",
    "import scipy\n",
    "import imageio\n",
    "from IPython.display import HTML"
   ]
  },
  {
   "cell_type": "code",
   "execution_count": null,
   "metadata": {
    "scrolled": true
   },
   "outputs": [],
   "source": [
    "# Now let's first take a look at the raw video. \n",
    "HTML(\"\"\"\n",
    "<video width=\"396\" height=\"444\" controls>\n",
    "  <source src=\"media/face.mp4\" type=\"video/mp4\">\n",
    "</video>\n",
    "\"\"\")"
   ]
  },
  {
   "cell_type": "code",
   "execution_count": null,
   "metadata": {},
   "outputs": [],
   "source": [
    "# Utility function to load and write videos\n",
    "def loadVideo(filename):\n",
    "    reader = imageio.get_reader(filename)\n",
    "    fps = reader.get_meta_data()['fps']\n",
    "    orig_vid = []\n",
    "    for i, im in enumerate(reader):\n",
    "        orig_vid.append(im)\n",
    "    return numpy.asarray(orig_vid),fps"
   ]
  },
  {
   "cell_type": "markdown",
   "metadata": {},
   "source": [
    "Our first step is to spatially process the frames to increase the temporal signal-to-noise ratio, a procedure known as \"spatial pooling\". Specifically, we will make use of the 2D isotropic (i.e., circularly symmetric) Gaussian filter:\n",
    "$$ G(x,y) = \\frac{1}{\\sum_{|x|\\leq M,|y|\\leq M}G(x,y)}e^{-\\frac{x^2+y^2}{2\\sigma^2}}$$\n",
    "where $x, y = 0, \\pm 1, \\pm 2, \\cdots$ represent the centered pixel locations, $M$ is the size of the filter, and $\\frac{1}{\\sum_{x,y}G(x,y)}$ is the normalization factor. For instance, a 3 by 3 Gaussian filter ($M=3$, $\\sigma=1$) is given by:"
   ]
  },
  {
   "cell_type": "raw",
   "metadata": {},
   "source": [
    "# Gaussian filter of size 3 by 3, sigma=1\n",
    "[[ 0.07511361  0.1238414   0.07511361]\n",
    " [ 0.1238414   0.20417996  0.1238414 ]\n",
    " [ 0.07511361  0.1238414   0.07511361]]"
   ]
  },
  {
   "cell_type": "markdown",
   "metadata": {},
   "source": [
    "The Gaussian kernel is then convolved with the frame. For any pixel at location $x_0,y_0$, the new pixel value is given by: $\\sum_{|x|\\leq M, |y|\\leq M}G(x,y)I(x_0-x,y_0-y)$, where $x,x_0,y,y_0$ are integers. Note the similarity to the 1D convolution.\n",
    "\n",
    "<b>Q5:</b> Implement the below block of codes to compute the Gaussian filter of any odd size. Write out the Gaussian filter for size 5 by 5 and $\\sigma=1$. What does the Gaussian filter do in effect?"
   ]
  },
  {
   "cell_type": "code",
   "execution_count": null,
   "metadata": {},
   "outputs": [],
   "source": [
    "# Define the Gaussian kernel\n",
    "def gausKernel(sz = 5,sigma=1):\n",
    "    kernel = numpy.zeros((sz,sz))\n",
    "    ### STUDENT: Implement the Gaussian kernel\n",
    "    \n",
    "    \n",
    "    \n",
    "    \n",
    "    \n",
    "    ### STUDENT END\n",
    "    return kernel\n",
    "print(gausKernel(sz=5))"
   ]
  },
  {
   "cell_type": "markdown",
   "metadata": {},
   "source": [
    "<b>Q6:</b> Study the below codes: what do gausPyrDown and gausPyrUp do? Why we need this step? (Hint: check the dimensions of the video data, and how many times we need to perform temporal filtering)"
   ]
  },
  {
   "cell_type": "code",
   "execution_count": null,
   "metadata": {
    "collapsed": true
   },
   "outputs": [],
   "source": [
    "def gausPyrDown(frame,sz=5,sigma=1):\n",
    "    height, width, channel = frame.shape\n",
    "    convFrame = numpy.zeros(shape=(height, width,channel), dtype=\"float\")\n",
    "    kernel = gausKernel(sz=sz,sigma=sigma)\n",
    "    for channel_i in range(channel):\n",
    "        convFrame[:,:,channel_i] = scipy.ndimage.convolve(frame[:,:,channel_i],kernel)\n",
    "    downFrame = convFrame[::2,::2,:]\n",
    "    return downFrame\n",
    "\n",
    "def gausPyrUp(frame,sz=5,sigma=1):\n",
    "    height, width, channel = frame.shape\n",
    "    upFrame = numpy.zeros(shape=(2*height, 2*width,channel), dtype=\"float\")\n",
    "    kernel = gausKernel(sz=sz,sigma=sigma)\n",
    "    for channel_i in range(channel):\n",
    "        upFrame[::2,::2,channel_i] = frame[:,:,channel_i]\n",
    "        upFrame[:,:,channel_i] = scipy.ndimage.convolve(upFrame[:,:,channel_i],kernel*4)\n",
    "    return upFrame\n",
    "\n",
    "def gaussian_video(video, shrink_multiple):\n",
    "    \"\"\"Create a gaussian representation of a video\"\"\"\n",
    "    vid_data = None\n",
    "    for x in range(0, video.shape[0]):\n",
    "        frame = video[x]\n",
    "        gauss_copy = numpy.ndarray(shape=frame.shape, dtype=\"float\")\n",
    "        gauss_copy[:] = frame\n",
    "        for i in range(shrink_multiple):\n",
    "            gauss_copy = gausPyrDown(gauss_copy)\n",
    "\n",
    "        if x == 0:\n",
    "            vid_data = numpy.zeros((video.shape[0], gauss_copy.shape[0], gauss_copy.shape[1], 3))\n",
    "        vid_data[x] = gauss_copy\n",
    "    return vid_data"
   ]
  },
  {
   "cell_type": "code",
   "execution_count": null,
   "metadata": {
    "collapsed": true
   },
   "outputs": [],
   "source": [
    "def combine_pyramid_and_save(g_video, orig_video, enlarge_multiple, fps, save_filename='media/output.mp4'):\n",
    "    \"\"\"Combine a gaussian video representation with the original and save to file\"\"\"\n",
    "    width, height = orig_video.shape[2], orig_video.shape[1]\n",
    "    mag_data = numpy.zeros(orig_video.shape, dtype='uint8')\n",
    "    map_channel = [0,1,2]\n",
    "    try:\n",
    "        os.remove(save_filename)\n",
    "    except OSError:\n",
    "        pass\n",
    "    print(\"Outputting to %s\" % save_filename)\n",
    "    wr = imageio.get_writer(save_filename, fps=fps)\n",
    "    for x in range(0, g_video.shape[0]):\n",
    "        img = numpy.ndarray(shape=g_video[x].shape, dtype='float')\n",
    "        img[:] = g_video[x]\n",
    "        for i in range(enlarge_multiple):\n",
    "            img = gausPyrUp(img)\n",
    "\n",
    "        img[:height, :width] = img[:height, :width] + orig_video[x]\n",
    "        res = convertScaleAbs(img[:height, :width])\n",
    "        mag_data[x] = res\n",
    "        wr.append_data(res)\n",
    "    wr.close()\n",
    "    return mag_data"
   ]
  },
  {
   "cell_type": "code",
   "execution_count": null,
   "metadata": {
    "collapsed": true
   },
   "outputs": [],
   "source": [
    "# Utility function: used to convert numpy array to comform with video format\n",
    "def convertScaleAbs(frame):\n",
    "    outFrame = numpy.ndarray(shape=frame.shape, dtype=\"uint8\")\n",
    "    for channel_i in range(3):\n",
    "        outFrame[:,:,channel_i] = numpy.clip(numpy.abs(frame[:,:,channel_i]),0,255).astype(numpy.uint8).copy()\n",
    "    return outFrame"
   ]
  },
  {
   "cell_type": "code",
   "execution_count": null,
   "metadata": {
    "collapsed": true
   },
   "outputs": [],
   "source": [
    "# We will use your previously implemented temporal bandpass filter, so make sure it works！\n",
    "def temporal_bandpass_filter(data, fps, freq_min=0.833, freq_max=1, axis=0):\n",
    "    # Inputs:\n",
    "    # data: video data of shape #frames x height x width x #channel (3,RGB)\n",
    "    # fps: frames per second (30)\n",
    "    # freq_min, freq_max: cut-off frequencies for bandpass filter\n",
    "    # axis: dimension along which to apply FFT (default:0, time domain <->for a single pixel along all frames)\n",
    "    # Output:\n",
    "    # Band-passed video data, with only frequency components (absolute value) between freq_min and freq_max preserved\n",
    "    #               of shape #frames x height x width x #channel (3,RGB)\n",
    "    data_process = numpy.zeros(data.shape)\n",
    "    sample_interval = 1.0/fps\n",
    "    print(\"Applying bandpass between \" + str(freq_min) + \" and \" + str(freq_max) + \" Hz\")\n",
    "    for x in range(data.shape[1]):\n",
    "        for y in range(data.shape[2]):\n",
    "            for z in range(data.shape[3]):\n",
    "                # the bandpass_filter is YOUR implementation!\n",
    "                data_process[:,x,y,z] = bandpass_filter(data[:,x,y,z], sample_interval, freq_min, freq_max)\n",
    "    return data_process"
   ]
  },
  {
   "cell_type": "markdown",
   "metadata": {},
   "source": [
    "Now, we are ready to perform the motion manification!"
   ]
  },
  {
   "cell_type": "code",
   "execution_count": null,
   "metadata": {
    "collapsed": true
   },
   "outputs": [],
   "source": [
    "def eulerian_magnification(orig_vid, fps, freq_min=0.833, freq_max=1, amplification=50, pyramid_levels=4):\n",
    "    \"\"\"Amplify subtle variation in a video\"\"\"\n",
    "    vid_data = gaussian_video(orig_vid, pyramid_levels)\n",
    "    vid_data = temporal_bandpass_filter(vid_data, fps, freq_min=freq_min, freq_max=freq_max)\n",
    "    print(\"Amplifying signal by factor of \" + str(amplification))\n",
    "    ### STUDENT: Implement the amplification part to exagerate the subtle signal\n",
    "    \n",
    "    ### STUDENT END\n",
    "    return vid_data"
   ]
  },
  {
   "cell_type": "code",
   "execution_count": null,
   "metadata": {
    "collapsed": true
   },
   "outputs": [],
   "source": [
    "def show_frequencies(original_video, fps, freq_min, freq_max, bounds=None):\n",
    "    \"\"\"Graph the average value of the video as well as the frequency strength\"\"\"\n",
    "    averages = []\n",
    "\n",
    "    if bounds:\n",
    "        for x in range(1, original_video.shape[0] - 1):\n",
    "            averages.append(original_video[x, bounds[2]:bounds[3], bounds[0]:bounds[1], :].sum())\n",
    "    else:\n",
    "        for x in range(1, original_video.shape[0] - 1):\n",
    "            averages.append(original_video[x, :, :, :].sum())\n",
    "\n",
    "    plt.figure(figsize=(10,12))\n",
    "    plt.subplot(2, 1, 1)\n",
    "    plt.title(\"Pixel Average\")\n",
    "    time_vid = numpy.arange(len(averages),dtype='float') / fps\n",
    "    plt.plot(time_vid,averages)\n",
    "\n",
    "    frequencies = numpy.fft.fftfreq(len(averages), d=1.0 / fps)\n",
    "\n",
    "    plt.subplot(2, 1, 2)\n",
    "    plt.title(\"FFT\"),plt.xlabel('Frequency (Hz)')\n",
    "    plt.ylim([-5000000, 20000000])\n",
    "    plt.stem(frequencies, numpy.fft.fft(averages), markerfmt=\" \")\n",
    "    plt.axvspan(freq_min, freq_max, alpha=0.5, color='red')\n",
    "    plt.axvspan(-freq_max, -freq_min, alpha=0.5, color='red')"
   ]
  },
  {
   "cell_type": "markdown",
   "metadata": {},
   "source": [
    "<b>Q7:</b> Specify the cutoff frequencies of the bandpass filter, and attach the following plot. Why do you choose this range of frequency?"
   ]
  },
  {
   "cell_type": "code",
   "execution_count": null,
   "metadata": {},
   "outputs": [],
   "source": [
    "print(\"Loading video...\")\n",
    "orig_vid, fps = loadVideo('media/face.mp4')\n",
    "print(\"Let's examine the video frequency...\")\n",
    "### STUDENT: Try different freq_min, freq_max\n",
    "freq_min,freq_max = \n",
    "### STUDENT END\n",
    "show_frequencies(orig_vid, fps,freq_min,freq_max)"
   ]
  },
  {
   "cell_type": "code",
   "execution_count": null,
   "metadata": {},
   "outputs": [],
   "source": [
    "print(\"Abracadabra...\") \n",
    "print(\"Note that it may take several minutes for the spell to be in effect, so be patient!\")\n",
    "### STUDENT: Try different freq_min, freq_max, and amplifcation\n",
    "vid_data = eulerian_magnification(orig_vid, fps, pyramid_levels= 3, freq_min= , freq_max= , amplification= )\n",
    "### STUDENT END\n",
    "mag_data = combine_pyramid_and_save(vid_data, orig_vid, enlarge_multiple=3, fps=fps, save_filename='media/face_magnified.mp4')\n",
    "print(\"Boom! Now you can check the result!\")"
   ]
  },
  {
   "cell_type": "code",
   "execution_count": null,
   "metadata": {},
   "outputs": [],
   "source": [
    "# Let's draw out four representive frames at time 2, 3, 4, 5 seconds\n",
    "plt.figure(figsize=(15,8))\n",
    "time_vid = numpy.array([4.3,4.9,5.5,6.1])\n",
    "time_vec = numpy.array(time_vid*fps, dtype='int')\n",
    "for time_id in range(4):\n",
    "    plt.subplot(102, 4, time_id+1),plt.axis(\"off\")\n",
    "    plt.imshow(orig_vid[time_vec[time_id]]),plt.title('Original '+str((time_vid[time_id]))+' sec')\n",
    "    plt.subplot(2, 4, 5+time_id),plt.axis(\"off\")\n",
    "    plt.imshow(mag_data[time_vec[time_id]]),plt.title('Magnified '+str((time_vid[time_id]))+' sec')"
   ]
  },
  {
   "cell_type": "markdown",
   "metadata": {},
   "source": [
    "<b>Q8:</b> Print out the above plot at time 4.3, 4.9, 5.5, 6.1 seconds."
   ]
  },
  {
   "cell_type": "code",
   "execution_count": null,
   "metadata": {},
   "outputs": [],
   "source": [
    "# Now let's check the video where pulse is revealed1\n",
    "HTML(\"\"\"\n",
    "<video width=\"396\" height=\"444\" controls>\n",
    "  <source src=\"media/face_magnified.mp4\" type=\"video/mp4\">\n",
    "</video>\n",
    "\"\"\")"
   ]
  },
  {
   "cell_type": "markdown",
   "metadata": {},
   "source": [
    "## GOING WILD:  Other Examples\n",
    "\n",
    "With the success of the previous facial pulse detection, feel free to take your algorithm to test out other examples (http://people.csail.mit.edu/mrub/evm/#code). Parents sometimes worry if the baby is really breathing because it tends to be quite placid while sleeping.. Here is a demo on easing the worries."
   ]
  },
  {
   "cell_type": "code",
   "execution_count": null,
   "metadata": {},
   "outputs": [],
   "source": [
    "# Now let's first take a look at the raw video. \n",
    "HTML(\"\"\"\n",
    "<video width=\"396\" height=\"244\" controls>\n",
    "  <source src=\"media/baby.mp4\" type=\"video/mp4\">\n",
    "</video>\n",
    "\"\"\")"
   ]
  },
  {
   "cell_type": "code",
   "execution_count": null,
   "metadata": {},
   "outputs": [],
   "source": [
    "print(\"Loading video...\")\n",
    "orig_vid, fps = loadVideo('media/baby.mp4')\n",
    "print(\"Let's examine the video frequency...\")\n",
    "### STUDENT: Try different freq_min, freq_max\n",
    "freq_min,freq_max = \n",
    "### STUDENT END\n",
    "show_frequencies(orig_vid, fps,freq_min,freq_max)"
   ]
  },
  {
   "cell_type": "code",
   "execution_count": 25,
   "metadata": {},
   "outputs": [
    {
     "name": "stdout",
     "output_type": "stream",
     "text": [
      "Abracadabra...\n",
      "Applying bandpass between 0.5 and 2.0 Hz\n"
     ]
    },
    {
     "name": "stderr",
     "output_type": "stream",
     "text": [
      "/Users/Ming/anaconda3/envs/python2/lib/python2.7/site-packages/ipykernel/__main__.py:18: ComplexWarning: Casting complex values to real discards the imaginary part\n"
     ]
    },
    {
     "name": "stdout",
     "output_type": "stream",
     "text": [
      "Amplifying signal by factor of 10\n",
      "Outputting to media/baby_magnified.mp4\n",
      "Boom! Now you can check the result!\n"
     ]
    }
   ],
   "source": [
    "print(\"Abracadabra...\")\n",
    "### STUDENT: Try different pyramid_level, freq_min, freq_max, and amplifcation\n",
    "vid_data = eulerian_magnification(orig_vid, fps, pyramid_levels=3 , freq_min= , freq_max= , amplification=10)\n",
    "### STUDENT END\n",
    "mag_data = combine_pyramid_and_save(vid_data, orig_vid, enlarge_multiple=3, fps=fps, save_filename='media/baby_magnified.mp4')\n",
    "print(\"Boom! Now you can check the result!\")"
   ]
  },
  {
   "cell_type": "code",
   "execution_count": 26,
   "metadata": {},
   "outputs": [
    {
     "data": {
      "text/html": [
       "\n",
       "<video width=\"396\" height=\"244\" controls>\n",
       "  <source src=\"media/baby_magnified.mp4\" type=\"video/mp4\">\n",
       "</video>\n"
      ],
      "text/plain": [
       "<IPython.core.display.HTML object>"
      ]
     },
     "execution_count": 26,
     "metadata": {},
     "output_type": "execute_result"
    }
   ],
   "source": [
    "# Now let's check the video where breathing is revealed.\n",
    "# Note that it might be optimal to view on Ipython, \n",
    "# you can view the video directly on your computer media/baby_magnified.mp4\n",
    "HTML(\"\"\"\n",
    "<video width=\"396\" height=\"244\" controls>\n",
    "  <source src=\"media/baby_magnified.mp4\" type=\"video/mp4\">\n",
    "</video>\n",
    "\"\"\")"
   ]
  },
  {
   "cell_type": "markdown",
   "metadata": {},
   "source": [
    "As William James once said, “The art of being wise is the art of knowing what to overlook”, perhaps because only then you can emphasize what's really important and magnify it! :)"
   ]
  },
  {
   "cell_type": "markdown",
   "metadata": {
    "collapsed": true
   },
   "source": [
    "<b>Minilab author:</b> Ming Jin (https://people.eecs.berkeley.edu/~jinming/), 2016 Fall\n",
    "\n",
    "<b>Reference:</b>\n",
    "Wu, Hao-Yu, et al. \"Eulerian video magnification for revealing subtle changes in the world.\" ACM Transactions on Graphics (TOG) 31.4 (2012): 65."
   ]
  }
 ],
 "metadata": {
  "kernelspec": {
   "display_name": "Python 3",
   "language": "python",
   "name": "python3"
  },
  "language_info": {
   "codemirror_mode": {
    "name": "ipython",
    "version": 3
   },
   "file_extension": ".py",
   "mimetype": "text/x-python",
   "name": "python",
   "nbconvert_exporter": "python",
   "pygments_lexer": "ipython3",
   "version": "3.6.8"
  }
 },
 "nbformat": 4,
 "nbformat_minor": 1
}
